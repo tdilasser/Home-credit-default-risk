{
 "cells": [
  {
   "cell_type": "code",
   "execution_count": 1,
   "metadata": {},
   "outputs": [],
   "source": [
    "# Import library\n",
    "import pandas as pd\n",
    "import numpy as np\n",
    "from sklearn.metrics import roc_auc_score\n",
    "from sklearn.model_selection import KFold\n",
    "from lightgbm import LGBMClassifier\n",
    "import gc"
   ]
  },
  {
   "cell_type": "code",
   "execution_count": null,
   "metadata": {},
   "outputs": [],
   "source": [
    "def reduce_mem_usage(df):\n",
    "    \"\"\" iterate through all the columns of a dataframe and modify the data type\n",
    "        to reduce memory usage.        \n",
    "    \"\"\"\n",
    "    start_mem = df.memory_usage().sum() / 1024**2\n",
    "    print('Memory usage of dataframe is {:.2f} MB'.format(start_mem))\n",
    "    \n",
    "    for col in df.columns:\n",
    "        col_type = df[col].dtype\n",
    "        \n",
    "        if col_type != object:\n",
    "            c_min = df[col].min()\n",
    "            c_max = df[col].max()\n",
    "            if str(col_type)[:3] == 'int':\n",
    "                if c_min > np.iinfo(np.int8).min and c_max < np.iinfo(np.int8).max:\n",
    "                    df[col] = df[col].astype(np.int8)\n",
    "                elif c_min > np.iinfo(np.int16).min and c_max < np.iinfo(np.int16).max:\n",
    "                    df[col] = df[col].astype(np.int16)\n",
    "                elif c_min > np.iinfo(np.int32).min and c_max < np.iinfo(np.int32).max:\n",
    "                    df[col] = df[col].astype(np.int32)\n",
    "                elif c_min > np.iinfo(np.int64).min and c_max < np.iinfo(np.int64).max:\n",
    "                    df[col] = df[col].astype(np.int64)  \n",
    "            else:\n",
    "                if c_min > np.finfo(np.float16).min and c_max < np.finfo(np.float16).max:\n",
    "                    df[col] = df[col].astype(np.float16)\n",
    "                elif c_min > np.finfo(np.float32).min and c_max < np.finfo(np.float32).max:\n",
    "                    df[col] = df[col].astype(np.float32)\n",
    "                else:\n",
    "                    df[col] = df[col].astype(np.float64)\n",
    "        else:\n",
    "            df[col] = df[col].astype('category')\n",
    "\n",
    "    end_mem = df.memory_usage().sum() / 1024**2\n",
    "    print('Memory usage after optimization is: {:.2f} MB'.format(end_mem))\n",
    "    print('Decreased by {:.1f}%'.format(100 * (start_mem - end_mem) / start_mem))\n",
    "    \n",
    "    return df\n",
    "\n",
    "\n",
    "def import_data(file):\n",
    "    \"\"\"create a dataframe and optimize its memory usage\"\"\"\n",
    "    df = pd.read_csv(file, parse_dates=True, keep_date_col=True)\n",
    "    df = reduce_mem_usage(df)\n",
    "    return df"
   ]
  },
  {
   "cell_type": "code",
   "execution_count": 2,
   "metadata": {},
   "outputs": [],
   "source": [
    "data = pd.read_csv('../input/application_train.csv')\n",
    "test = pd.read_csv('../input/application_test.csv')\n",
    "prev = pd.read_csv('../input/previous_application.csv')\n",
    "buro = pd.read_csv('../input/bureau.csv')"
   ]
  },
  {
   "cell_type": "code",
   "execution_count": null,
   "metadata": {},
   "outputs": [],
   "source": [
    "data_bureau_balance = pd.read_csv('../data/bureau_balance.csv')\n",
    "data_bureau_balance = reduce_mem_usage(data_bureau_balance)\n",
    "data_bureau_balance.columns = [str.lower(x) for x in data_bureau_balance.columns]\n",
    "data_bureau_balance = pd.get_dummies(data_bureau_balance)\n",
    "bureau_bal = data_bureau_balance.groupby('sk_id_bureau').agg(['min','max','mean','count','sum','nunique','std'])\n",
    "bureau_bal.columns = [\"_\".join(x) for x in bureau_bal.columns.ravel()]\n",
    "bureau_bal.columns = [ 'bureau_bal_' + x for x in bureau_bal.columns]\n",
    "del(data_bureau_balance)\n",
    "bureau_bal.head()"
   ]
  },
  {
   "cell_type": "code",
   "execution_count": null,
   "metadata": {},
   "outputs": [],
   "source": [
    "data_previous_application = pd.read_csv('../data/previous_application.csv')\n",
    "data_previous_application = reduce_mem_usage(data_previous_application)\n",
    "data_previous_application['DAYS_LAST_DUE'].replace(365243, np.nan, inplace=True)\n",
    "data_previous_application['DAYS_TERMINATION'].replace(365243, np.nan, inplace=True)\n",
    "data_previous_application['DAYS_FIRST_DRAWING'].replace(365243, np.nan, inplace=True)\n",
    "data_previous_application['DAYS_FIRST_DUE'].replace(365243, np.nan, inplace=True)\n",
    "data_previous_application['DAYS_LAST_DUE_1ST_VERSION'].replace(365243, np.nan, inplace=True)\n",
    "data_previous_application.columns = [str.lower(x) for x in data_previous_application.columns]\n",
    "data_previous_application = pd.get_dummies(data_previous_application)\n",
    "previous_app = data_previous_application.groupby('sk_id_curr').agg(['min','max','mean','count','sum','nunique','std'])\n",
    "previous_app.columns = [\"_\".join(x) for x in previous_app.columns.ravel()]\n",
    "previous_app.columns = [ 'previous_app_' + x for x in previous_app.columns]\n",
    "del(data_previous_application)\n",
    "previous_app.head()"
   ]
  },
  {
   "cell_type": "code",
   "execution_count": null,
   "metadata": {},
   "outputs": [],
   "source": [
    "data_application_test = pd.read_csv('../data/application_test.csv')\n",
    "data_application_train = pd.read_csv('../data/application_train.csv',nrows=10000)\n",
    "data_pool = data_application_train.append(data_application_test)\n",
    "data_pool = reduce_mem_usage(data_pool)\n",
    "del(data_application_test)\n",
    "del(data_application_train)\n",
    "data_pool.columns = [str.lower(x) for x in data_pool.columns]\n",
    "\n",
    "data_pool = data_pool.set_index('sk_id_curr').join(cash,how='left')\n",
    "data_pool = data_pool.join(bureau,how='left')\n",
    "data_pool = data_pool.join(card_credit,how='left')\n",
    "data_pool = data_pool.join(install,how='left')\n",
    "\n",
    "del(cash)\n",
    "del(bureau)\n",
    "del(card_credit)\n",
    "del(install)"
   ]
  },
  {
   "cell_type": "code",
   "execution_count": null,
   "metadata": {},
   "outputs": [],
   "source": []
  }
 ],
 "metadata": {
  "kernelspec": {
   "display_name": "Python 3",
   "language": "python",
   "name": "python3"
  },
  "language_info": {
   "codemirror_mode": {
    "name": "ipython",
    "version": 3
   },
   "file_extension": ".py",
   "mimetype": "text/x-python",
   "name": "python",
   "nbconvert_exporter": "python",
   "pygments_lexer": "ipython3",
   "version": "3.6.5"
  }
 },
 "nbformat": 4,
 "nbformat_minor": 2
}
